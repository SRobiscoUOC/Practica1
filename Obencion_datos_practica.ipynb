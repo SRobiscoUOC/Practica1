{
 "cells": [
  {
   "cell_type": "markdown",
   "id": "fe745afc",
   "metadata": {},
   "source": [
    "# Práctica 1: Web Scrapping\n",
    "\n",
    "En este documento tenemos cómo obtener los datos de información sobre nuestra web víctima, que nos piden en la práctica. También iré adelantando algo de código. La idea es entrar en la web https://www.gw-openscience.org/eventapi/html/query/, rellenar el formulario con las fechas que recibamos como parámetros de entrada, así sólo insertamos los datos que nos falten, e ir obteniendo los datos que aparecen en una tabla en pantalla (podríamos directamente obtener un CSV pero queremos poner las cosas complicadas). Si ya queremos ser lo más, una vez tengamos el dataset, podemos recorrer los enlaces de la tabla de la web para continuar rellenando datos. Con esto nos aseguramos que el profesor se sorprenda, además de con los datos (no creo que nadie más vaya a por algo tan raro)"
   ]
  },
  {
   "cell_type": "markdown",
   "id": "1c9abc40",
   "metadata": {},
   "source": [
    "## Instalación de librerías\n",
    "El primer paso es instalar las librerías que nos harán falta"
   ]
  },
  {
   "cell_type": "code",
   "execution_count": 1,
   "id": "d188600f",
   "metadata": {},
   "outputs": [],
   "source": [
    "import numpy as np # linear algebra\n",
    "\n",
    "# Instalaremos la librería builtwith y la importaremos, \n",
    "# antes en la consola habremos instalado la librería con el comando pip install builtwith\n",
    "import builtwith\n",
    "import whois\n",
    "import requests\n",
    "import csv\n",
    "import argparse\n",
    "from datetime import datetime\n",
    "from datetime import timedelta\n",
    "from bs4 import BeautifulSoup"
   ]
  },
  {
   "cell_type": "markdown",
   "id": "92e4253e",
   "metadata": {},
   "source": [
    "## Inspección de la web de la que obtendremos datos\n",
    "En este apartado conoceremos mejor la web de la que obtendremos los datos. Lo primero que haremos es averiguar cómo esta hecha esta web"
   ]
  },
  {
   "cell_type": "code",
   "execution_count": 6,
   "id": "3e261904",
   "metadata": {},
   "outputs": [
    {
     "data": {
      "text/plain": [
       "{'web-servers': ['Apache'],\n",
       " 'web-server-extensions': ['OpenSSL'],\n",
       " 'programming-languages': ['Python'],\n",
       " 'font-scripts': ['Font Awesome', 'Google Font API'],\n",
       " 'web-frameworks': ['Twitter Bootstrap'],\n",
       " 'javascript-frameworks': ['jQuery']}"
      ]
     },
     "execution_count": 6,
     "metadata": {},
     "output_type": "execute_result"
    }
   ],
   "source": [
    "builtwith.parse('https://www.gw-openscience.org')"
   ]
  },
  {
   "cell_type": "markdown",
   "id": "24284f89",
   "metadata": {},
   "source": [
    "Observamos que nuestra web está programada en Python y emplea frameworks de javascript. Esto nos está indicando que su contenido está embebido en el HTML y puede ser relativamente sencillo hacer webscrapping sobre ella. Veamos si es realmente así o si esconde algo.\n",
    "\n",
    "A continuación conoceremos quién es el dueño de la web, para ello instalaremos la librería python-whois en la consola para que todo funcione."
   ]
  },
  {
   "cell_type": "code",
   "execution_count": 15,
   "id": "b55f5cae",
   "metadata": {},
   "outputs": [
    {
     "name": "stdout",
     "output_type": "stream",
     "text": [
      "{\n",
      "  \"domain_name\": \"gw-openscience.org\",\n",
      "  \"registrar\": \"Domain.com, LLC\",\n",
      "  \"whois_server\": \"http://whois.domain.com\",\n",
      "  \"referral_url\": null,\n",
      "  \"updated_date\": \"2022-06-12 19:25:09\",\n",
      "  \"creation_date\": \"2017-09-04 21:11:08\",\n",
      "  \"expiration_date\": \"2027-09-04 21:11:08\",\n",
      "  \"name_servers\": [\n",
      "    \"ligo.ligo.caltech.edu\",\n",
      "    \"mercutio.ni.caltech.edu\",\n",
      "    \"tepid.ni.caltech.edu\"\n",
      "  ],\n",
      "  \"status\": [\n",
      "    \"clientTransferProhibited https://icann.org/epp#clientTransferProhibited\",\n",
      "    \"clientUpdateProhibited https://icann.org/epp#clientUpdateProhibited\"\n",
      "  ],\n",
      "  \"emails\": \"compliance@domain-inc.net\",\n",
      "  \"dnssec\": \"unsigned\",\n",
      "  \"name\": \"REDACTED FOR PRIVACY\",\n",
      "  \"org\": \"Domain Privacy Service FBO Registrant.\",\n",
      "  \"address\": \"REDACTED FOR PRIVACY\",\n",
      "  \"city\": \"REDACTED FOR PRIVACY\",\n",
      "  \"state\": \"FL\",\n",
      "  \"registrant_postal_code\": \"REDACTED FOR PRIVACY\",\n",
      "  \"country\": \"US\"\n",
      "}\n"
     ]
    }
   ],
   "source": [
    "w = whois.whois('https://www.gw-openscience.org/eventapi/html/query/')\n",
    "print(w)"
   ]
  },
  {
   "cell_type": "markdown",
   "id": "e3398a47",
   "metadata": {},
   "source": [
    "Observamos que el dueño de la web es \"Domain Privacy Service FBO Registrant.\", esto suena a que no quieren mostrar abiertamente los datos. Sabemos que están en Estados Unidos y por los nombres de los servidores podemos deducir que realmente el dueño es el Caltech.\n",
    "Ahora vamos a por el código para la obtención de datos. Lo primero que haremos es una función para obtener los datos de\n",
    "https://www.gw-openscience.org/eventapi/html/query/ rellenando el formulario de la web"
   ]
  },
  {
   "cell_type": "code",
   "execution_count": null,
   "id": "4354e7b0",
   "metadata": {},
   "outputs": [],
   "source": [
    "def get_Gravitationa_lWaves( queryURL, paramsValues,headersValues,elementList,date2Filter ):\n",
    "    return"
   ]
  }
 ],
 "metadata": {
  "kernelspec": {
   "display_name": "Python 3 (ipykernel)",
   "language": "python",
   "name": "python3"
  },
  "language_info": {
   "codemirror_mode": {
    "name": "ipython",
    "version": 3
   },
   "file_extension": ".py",
   "mimetype": "text/x-python",
   "name": "python",
   "nbconvert_exporter": "python",
   "pygments_lexer": "ipython3",
   "version": "3.9.13"
  }
 },
 "nbformat": 4,
 "nbformat_minor": 5
}
