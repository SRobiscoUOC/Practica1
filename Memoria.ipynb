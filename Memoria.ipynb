{
 "cells": [
  {
   "cell_type": "markdown",
   "id": "fe745afc",
   "metadata": {},
   "source": [
    "<div style=\"width: 100%; clear: both;\">\n",
    "<div style=\"float: left; width: 50%;\">\n",
    "<img src=\"http://www.uoc.edu/portal/_resources/common/imatges/marca_UOC/UOC_Masterbrand.jpg\", align=\"left\">\n",
    "</div>\n",
    "<div style=\"float: right; width: 50%;\">\n",
    "<p style=\"margin: 0; padding-top: 22px; text-align:right;\">M2.851 · Tipología y ciclo de vida de los datos</p>\n",
    "<p style=\"margin: 0; text-align:right;\">2022-11 · Máster universitario en Ciencia de datos (Data science)</p>\n",
    "<p style=\"margin: 0; text-align:right; padding-button: 100px;\">Estudios de Informática, Multimedia y Telecomunicación</p>\n",
    "</div>\n",
    "</div>\n",
    "<div style=\"width:100%;\">&nbsp;</div>\n",
    "\n",
    "\n",
    "# Práctica 1- Tipología y ciclo de vida de los datos\n",
    "\n",
    "\n",
    "\n",
    "## Autores\n",
    "\n",
    "- David Fernández Álvarez\n",
    "\n",
    "- Sara Robisco Cavite\n"
   ]
  },
  {
   "cell_type": "markdown",
   "id": "5923b318",
   "metadata": {},
   "source": [
    "## 1. Contexto\n",
    "\n",
    "El contexto de esta práctica es la obtención de las detecciones de ondas gravitacionales por parte de LIGO, VIRGO y KAGRA, tanto aquellas confirmadas y publicadas como las descartadas.\n",
    "\n",
    "Para ello obtendremos los datos de la web del consorcio LIGO, VIRGO y KAGRA. En esta web no sólo exponen información sobre los diferentes observatorios y sus actividades, sino que además muestran y comparten sus datos de manera pública. El enlace es https://www.gw-openscience.org/ \n",
    "\n",
    "Hemos escogido esta web porque nos ha parecido un conjunto de datos original dentro de una web lo suficientemente compleja para la elaboración de la práctica."
   ]
  },
  {
   "cell_type": "markdown",
   "id": "8d01d009",
   "metadata": {},
   "source": [
    "## 2. Título del dataset\n",
    "\n",
    "Hemos decidido denominar al dataset detecciones_ondas_gravitacionales.csv"
   ]
  },
  {
   "cell_type": "markdown",
   "id": "8e592ae4",
   "metadata": {},
   "source": [
    "## 3. Descripción del dataset\n",
    "\n",
    "El conjunto de datos extraído son los datos de las detecciones de ondas gravitacionales, tanto aquellas confirmadas como aquellas que se han asociado a ruido y se han descartado. Nuestra aplicación recoge aquellas detecciones dentro del intervalo de fechas que seleccionemos con la intención de irlas añadiendo a una base de datos sin necesidad de traerse todos los datos."
   ]
  },
  {
   "cell_type": "markdown",
   "id": "fc08fd3e",
   "metadata": {},
   "source": [
    "## 4. Representación gráfica"
   ]
  },
  {
   "cell_type": "markdown",
   "id": "8af8003f",
   "metadata": {},
   "source": [
    "## 5. Contenido\n",
    "\n",
    "Los campos de nuestro dataset son:\n",
    "\n",
    " - **Name**: identificador de la detección.\n",
    "    \n",
    " - **Version**: versión de la detección. Se revisan periódicamente.\n",
    " \n",
    " - **Release**.\n",
    " \n",
    " - **GPS**: fecha y hora de la detección en formato GPS.\n",
    " \n",
    " - **Mass 1 (M☉)**: masa del primer objeto en masas solares.\n",
    " \n",
    " - **Mass 2 (M☉)**: masa del segundo objeto en masas solares.\n",
    " \n",
    " - **Network SNR**: ratio señal/ruido en la red.\n",
    " \n",
    " - **Distance (Mpc)**: distancia a la que se ha producido la colisión en Megapársecs.\n",
    " \n",
    " - **χeff**: correlación de campo z de las fusiones de agujeros negros binarios.\n",
    " \n",
    " - **Total Mass (M☉)**: masa total de ambos cuerpos. Medida en masas solares.\n",
    " \n",
    " - **Chirp Mass (M☉)**: masa efectiva de un sistema binario. Medida en masas solares.\n",
    " \n",
    " - **Detector Frame Chirp Mass (M☉)**: marco del detector de la masa efectiva. Medida en masas solares.\n",
    " \n",
    " - **Redshift**: corrimiento al rojo, marca la velocidad a la que se alejan de nosotros.\n",
    " \n",
    " - **False Alarm Rate (yr-1)**: tasa de falsa alarma.\n",
    " \n",
    " - **Pastro**: probabilidad de que el evento tenga un origen astrofísico.\n",
    " \n",
    " - **Final Mass (M☉)**: masa final del objeto resultante tras la colisión. Medida en masas solares.\n"
   ]
  },
  {
   "cell_type": "markdown",
   "id": "d3d70d1a",
   "metadata": {},
   "source": [
    "## 6. Propietario\n",
    "\n",
    "Para obtener el propietario de la web hemos hecho un script de python, para poder ejecutarlo hemos instalado la librería  python-whois. A continuación se muestra el script y los datos del propietario de la web:"
   ]
  },
  {
   "cell_type": "code",
   "execution_count": 4,
   "id": "b55f5cae",
   "metadata": {},
   "outputs": [
    {
     "name": "stdout",
     "output_type": "stream",
     "text": [
      "{\n",
      "  \"domain_name\": \"gw-openscience.org\",\n",
      "  \"registrar\": \"Domain.com, LLC\",\n",
      "  \"whois_server\": \"http://whois.domain.com\",\n",
      "  \"referral_url\": null,\n",
      "  \"updated_date\": \"2022-06-12 19:25:09\",\n",
      "  \"creation_date\": \"2017-09-04 21:11:08\",\n",
      "  \"expiration_date\": \"2027-09-04 21:11:08\",\n",
      "  \"name_servers\": [\n",
      "    \"ligo.ligo.caltech.edu\",\n",
      "    \"mercutio.ni.caltech.edu\",\n",
      "    \"tepid.ni.caltech.edu\"\n",
      "  ],\n",
      "  \"status\": [\n",
      "    \"clientTransferProhibited https://icann.org/epp#clientTransferProhibited\",\n",
      "    \"clientUpdateProhibited https://icann.org/epp#clientUpdateProhibited\"\n",
      "  ],\n",
      "  \"emails\": \"compliance@domain-inc.net\",\n",
      "  \"dnssec\": \"unsigned\",\n",
      "  \"name\": \"REDACTED FOR PRIVACY\",\n",
      "  \"org\": \"Domain Privacy Service FBO Registrant.\",\n",
      "  \"address\": \"REDACTED FOR PRIVACY\",\n",
      "  \"city\": \"REDACTED FOR PRIVACY\",\n",
      "  \"state\": \"FL\",\n",
      "  \"registrant_postal_code\": \"REDACTED FOR PRIVACY\",\n",
      "  \"country\": \"US\"\n",
      "}\n"
     ]
    }
   ],
   "source": [
    "import whois\n",
    "w = whois.whois('https://www.gw-openscience.org')\n",
    "print(w)"
   ]
  },
  {
   "attachments": {
    "imagen.png": {
     "image/png": "[encoded data removed]"
    }
   },
   "cell_type": "markdown",
   "id": "e3398a47",
   "metadata": {},
   "source": [
    "Observamos que el propietario de la web es \"Domain Privacy Service FBO Registrant.\", esto suena a que no quieren mostrar abiertamente los datos del propietario. Sabemos que están en Estados Unidos y por los nombres de los servidores podemos deducir que realmente el dueño es el Caltech.\n",
    "\n",
    "Al observar lo celosos que son de su privacidad nos dio miedo que no nos dejasen hacer webscraping, así que lo primero que hicimos fue consultar su archivo Robots.txt, situado en https://www.gw-openscience.org/robots.txt/. Veamos su contenido:\n",
    "\n",
    "![imagen.png](attachment:imagen.png)\n",
    "\n",
    "Por lo que vemos sólo hay restricciones a ciertas páginas, evitando acceder a ellas no incumpliremos sus restricciones y actuaremos de manera ética. Además hemos insertado en el código retardos de tiempo para evitar saturar el servidor con nuestra actividad. Para evitar saturar su web con consultas, nuestra idea es hacer una extracción de datos semanal, con los datos de la última semana cada vez. De este modo no saturaremos su servidor, además no se detectan ondas gravitacionales a diario, por lo que el intervalo semanal es lo mejor para todos."
   ]
  },
  {
   "cell_type": "markdown",
   "id": "17af707f",
   "metadata": {},
   "source": [
    "## 7. Inspiración\n",
    "\n",
    "Lo que nos ha hecho tomar la decisión de obtener este conjunto de datos es conocer más sobre las detecciones de ondas gravitacionales. Cada vez que el consorcio formado por LIGO, VIRGO y KAGRA publican una detección, ésta se convierte en un acontecimiento en medios y nos surgen muchas preguntas:\n",
    "\n",
    "- ¿Qué intervalos de masas de objetos son los más detectados?\n",
    "\n",
    "- ¿Hay periodos del año donde haya más probabilidad de detecciones? Si es así ¿De qué región del espacio provienen?\n",
    "\n",
    "- ¿Qué hace que una señal se considere buena o se descarte?\n",
    "\n",
    "- ¿Cuáles son las detecciones más cercanas? ¿Y las más lejanas?\n",
    "\n",
    "Estos son ejemplos de preguntas a las que nos gustaría dar respuesta. Lo positivo es que los datos que necesitamos para ello están en partes de la web de acceso permitido, por lo tanto es viable obtenerlos."
   ]
  },
  {
   "cell_type": "markdown",
   "id": "11e9930a",
   "metadata": {},
   "source": [
    "## 8. Licencia"
   ]
  }
 ],
 "metadata": {
  "kernelspec": {
   "display_name": "Python 3 (ipykernel)",
   "language": "python",
   "name": "python3"
  },
  "language_info": {
   "codemirror_mode": {
    "name": "ipython",
    "version": 3
   },
   "file_extension": ".py",
   "mimetype": "text/x-python",
   "name": "python",
   "nbconvert_exporter": "python",
   "pygments_lexer": "ipython3",
   "version": "3.9.13"
  }
 },
 "nbformat": 4,
 "nbformat_minor": 5
}
