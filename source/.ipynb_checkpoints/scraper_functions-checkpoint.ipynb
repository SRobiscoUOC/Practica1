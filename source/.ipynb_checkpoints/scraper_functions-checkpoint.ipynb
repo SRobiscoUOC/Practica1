{
 "cells": [
  {
   "cell_type": "code",
   "execution_count": 45,
   "id": "28864e79",
   "metadata": {},
   "outputs": [
    {
     "ename": "NoSuchElementException",
     "evalue": "Message: no such element: Unable to locate element: {\"method\":\"xpath\",\"selector\":\"//button[text()='min-datetime-tbox']\"}\n  (Session info: chrome=107.0.5304.88)\nStacktrace:\nBacktrace:\n\tOrdinal0 [0x0068ACD3+2075859]\n\tOrdinal0 [0x0061EE61+1633889]\n\tOrdinal0 [0x0051B7BD+571325]\n\tOrdinal0 [0x0054AC2F+764975]\n\tOrdinal0 [0x0054AE1B+765467]\n\tOrdinal0 [0x0057D0F2+970994]\n\tOrdinal0 [0x00567364+881508]\n\tOrdinal0 [0x0057B56A+963946]\n\tOrdinal0 [0x00567136+880950]\n\tOrdinal0 [0x0053FEFD+720637]\n\tOrdinal0 [0x00540F3F+724799]\n\tGetHandleVerifier [0x0093EED2+2769538]\n\tGetHandleVerifier [0x00930D95+2711877]\n\tGetHandleVerifier [0x0071A03A+521194]\n\tGetHandleVerifier [0x00718DA0+516432]\n\tOrdinal0 [0x0062682C+1665068]\n\tOrdinal0 [0x0062B128+1683752]\n\tOrdinal0 [0x0062B215+1683989]\n\tOrdinal0 [0x00636484+1729668]\n\tBaseThreadInitThunk [0x75A77BA9+25]\n\tRtlInitializeExceptionChain [0x7755BB3B+107]\n\tRtlClearBits [0x7755BABF+191]\n",
     "output_type": "error",
     "traceback": [
      "\u001b[1;31m---------------------------------------------------------------------------\u001b[0m",
      "\u001b[1;31mNoSuchElementException\u001b[0m                    Traceback (most recent call last)",
      "Input \u001b[1;32mIn [45]\u001b[0m, in \u001b[0;36m<cell line: 45>\u001b[1;34m()\u001b[0m\n\u001b[0;32m     42\u001b[0m     input_text\u001b[38;5;241m.\u001b[39msend_keys(\u001b[38;5;124m'\u001b[39m\u001b[38;5;124m20160101T00:00:00\u001b[39m\u001b[38;5;124m'\u001b[39m)  \n\u001b[0;32m     43\u001b[0m     \u001b[38;5;28;01mreturn\u001b[39;00m \n\u001b[1;32m---> 45\u001b[0m \u001b[43mexecute_form\u001b[49m\u001b[43m(\u001b[49m\u001b[43m)\u001b[49m\n",
      "Input \u001b[1;32mIn [45]\u001b[0m, in \u001b[0;36mexecute_form\u001b[1;34m()\u001b[0m\n\u001b[0;32m     20\u001b[0m driver\u001b[38;5;241m.\u001b[39mimplicitly_wait(\u001b[38;5;241m10\u001b[39m)\n\u001b[0;32m     21\u001b[0m \u001b[38;5;66;03m# Pulsamos el botón query de la ventana que acaba de cargar\u001b[39;00m\n\u001b[1;32m---> 22\u001b[0m elem2 \u001b[38;5;241m=\u001b[39m \u001b[43mdriver\u001b[49m\u001b[38;5;241;43m.\u001b[39;49m\u001b[43mfind_element\u001b[49m\u001b[43m(\u001b[49m\u001b[43mBy\u001b[49m\u001b[38;5;241;43m.\u001b[39;49m\u001b[43mXPATH\u001b[49m\u001b[43m,\u001b[49m\u001b[43m \u001b[49m\u001b[38;5;124;43m\"\u001b[39;49m\u001b[38;5;124;43m//button[text()=\u001b[39;49m\u001b[38;5;124;43m'\u001b[39;49m\u001b[38;5;124;43mmin-datetime-tbox\u001b[39;49m\u001b[38;5;124;43m'\u001b[39;49m\u001b[38;5;124;43m]\u001b[39;49m\u001b[38;5;124;43m\"\u001b[39;49m\u001b[43m)\u001b[49m\u001b[38;5;241m.\u001b[39mclick() \n\u001b[0;32m     23\u001b[0m \u001b[38;5;66;03m# Esperamos a que se cargue el formulario\u001b[39;00m\n\u001b[0;32m     24\u001b[0m driver\u001b[38;5;241m.\u001b[39mimplicitly_wait(\u001b[38;5;241m10\u001b[39m)\n",
      "File \u001b[1;32m~\\anaconda3\\envs\\PracticaWebScrapping\\lib\\site-packages\\selenium\\webdriver\\remote\\webdriver.py:861\u001b[0m, in \u001b[0;36mWebDriver.find_element\u001b[1;34m(self, by, value)\u001b[0m\n\u001b[0;32m    858\u001b[0m     by \u001b[38;5;241m=\u001b[39m By\u001b[38;5;241m.\u001b[39mCSS_SELECTOR\n\u001b[0;32m    859\u001b[0m     value \u001b[38;5;241m=\u001b[39m \u001b[38;5;124m'\u001b[39m\u001b[38;5;124m[name=\u001b[39m\u001b[38;5;124m\"\u001b[39m\u001b[38;5;132;01m%s\u001b[39;00m\u001b[38;5;124m\"\u001b[39m\u001b[38;5;124m]\u001b[39m\u001b[38;5;124m'\u001b[39m \u001b[38;5;241m%\u001b[39m value\n\u001b[1;32m--> 861\u001b[0m \u001b[38;5;28;01mreturn\u001b[39;00m \u001b[38;5;28;43mself\u001b[39;49m\u001b[38;5;241;43m.\u001b[39;49m\u001b[43mexecute\u001b[49m\u001b[43m(\u001b[49m\u001b[43mCommand\u001b[49m\u001b[38;5;241;43m.\u001b[39;49m\u001b[43mFIND_ELEMENT\u001b[49m\u001b[43m,\u001b[49m\u001b[43m \u001b[49m\u001b[43m{\u001b[49m\u001b[38;5;124;43m\"\u001b[39;49m\u001b[38;5;124;43musing\u001b[39;49m\u001b[38;5;124;43m\"\u001b[39;49m\u001b[43m:\u001b[49m\u001b[43m \u001b[49m\u001b[43mby\u001b[49m\u001b[43m,\u001b[49m\u001b[43m \u001b[49m\u001b[38;5;124;43m\"\u001b[39;49m\u001b[38;5;124;43mvalue\u001b[39;49m\u001b[38;5;124;43m\"\u001b[39;49m\u001b[43m:\u001b[49m\u001b[43m \u001b[49m\u001b[43mvalue\u001b[49m\u001b[43m}\u001b[49m\u001b[43m)\u001b[49m[\u001b[38;5;124m\"\u001b[39m\u001b[38;5;124mvalue\u001b[39m\u001b[38;5;124m\"\u001b[39m]\n",
      "File \u001b[1;32m~\\anaconda3\\envs\\PracticaWebScrapping\\lib\\site-packages\\selenium\\webdriver\\remote\\webdriver.py:444\u001b[0m, in \u001b[0;36mWebDriver.execute\u001b[1;34m(self, driver_command, params)\u001b[0m\n\u001b[0;32m    442\u001b[0m response \u001b[38;5;241m=\u001b[39m \u001b[38;5;28mself\u001b[39m\u001b[38;5;241m.\u001b[39mcommand_executor\u001b[38;5;241m.\u001b[39mexecute(driver_command, params)\n\u001b[0;32m    443\u001b[0m \u001b[38;5;28;01mif\u001b[39;00m response:\n\u001b[1;32m--> 444\u001b[0m     \u001b[38;5;28;43mself\u001b[39;49m\u001b[38;5;241;43m.\u001b[39;49m\u001b[43merror_handler\u001b[49m\u001b[38;5;241;43m.\u001b[39;49m\u001b[43mcheck_response\u001b[49m\u001b[43m(\u001b[49m\u001b[43mresponse\u001b[49m\u001b[43m)\u001b[49m\n\u001b[0;32m    445\u001b[0m     response[\u001b[38;5;124m\"\u001b[39m\u001b[38;5;124mvalue\u001b[39m\u001b[38;5;124m\"\u001b[39m] \u001b[38;5;241m=\u001b[39m \u001b[38;5;28mself\u001b[39m\u001b[38;5;241m.\u001b[39m_unwrap_value(response\u001b[38;5;241m.\u001b[39mget(\u001b[38;5;124m\"\u001b[39m\u001b[38;5;124mvalue\u001b[39m\u001b[38;5;124m\"\u001b[39m, \u001b[38;5;28;01mNone\u001b[39;00m))\n\u001b[0;32m    446\u001b[0m     \u001b[38;5;28;01mreturn\u001b[39;00m response\n",
      "File \u001b[1;32m~\\anaconda3\\envs\\PracticaWebScrapping\\lib\\site-packages\\selenium\\webdriver\\remote\\errorhandler.py:249\u001b[0m, in \u001b[0;36mErrorHandler.check_response\u001b[1;34m(self, response)\u001b[0m\n\u001b[0;32m    247\u001b[0m         alert_text \u001b[38;5;241m=\u001b[39m value[\u001b[38;5;124m\"\u001b[39m\u001b[38;5;124malert\u001b[39m\u001b[38;5;124m\"\u001b[39m]\u001b[38;5;241m.\u001b[39mget(\u001b[38;5;124m\"\u001b[39m\u001b[38;5;124mtext\u001b[39m\u001b[38;5;124m\"\u001b[39m)\n\u001b[0;32m    248\u001b[0m     \u001b[38;5;28;01mraise\u001b[39;00m exception_class(message, screen, stacktrace, alert_text)  \u001b[38;5;66;03m# type: ignore[call-arg]  # mypy is not smart enough here\u001b[39;00m\n\u001b[1;32m--> 249\u001b[0m \u001b[38;5;28;01mraise\u001b[39;00m exception_class(message, screen, stacktrace)\n",
      "\u001b[1;31mNoSuchElementException\u001b[0m: Message: no such element: Unable to locate element: {\"method\":\"xpath\",\"selector\":\"//button[text()='min-datetime-tbox']\"}\n  (Session info: chrome=107.0.5304.88)\nStacktrace:\nBacktrace:\n\tOrdinal0 [0x0068ACD3+2075859]\n\tOrdinal0 [0x0061EE61+1633889]\n\tOrdinal0 [0x0051B7BD+571325]\n\tOrdinal0 [0x0054AC2F+764975]\n\tOrdinal0 [0x0054AE1B+765467]\n\tOrdinal0 [0x0057D0F2+970994]\n\tOrdinal0 [0x00567364+881508]\n\tOrdinal0 [0x0057B56A+963946]\n\tOrdinal0 [0x00567136+880950]\n\tOrdinal0 [0x0053FEFD+720637]\n\tOrdinal0 [0x00540F3F+724799]\n\tGetHandleVerifier [0x0093EED2+2769538]\n\tGetHandleVerifier [0x00930D95+2711877]\n\tGetHandleVerifier [0x0071A03A+521194]\n\tGetHandleVerifier [0x00718DA0+516432]\n\tOrdinal0 [0x0062682C+1665068]\n\tOrdinal0 [0x0062B128+1683752]\n\tOrdinal0 [0x0062B215+1683989]\n\tOrdinal0 [0x00636484+1729668]\n\tBaseThreadInitThunk [0x75A77BA9+25]\n\tRtlInitializeExceptionChain [0x7755BB3B+107]\n\tRtlClearBits [0x7755BABF+191]\n"
     ]
    }
   ],
   "source": [
    "# En este archivo definimos las funciones que empleará nuestro sistema de web_scrapping\n",
    "\n",
    "# Declaramos las librerías que usaremos\n",
    "from selenium import webdriver\n",
    "from selenium.webdriver.common.by import By\n",
    "from selenium.webdriver.support.ui import Select\n",
    "\n",
    "\n",
    "# Función que rellena y ejecuta el formulario\n",
    "def execute_form():\n",
    "    # Declaramos nuestro navegador\n",
    "    driver = webdriver.Chrome()\n",
    "    # Abrimos nuestra web\n",
    "    driver.get('https://www.gw-openscience.org')\n",
    "    # Seleccionamos en el menú eventos y catálogos\n",
    "    elem = driver.find_element(By.XPATH, \"//a[contains(text(), 'Events and Catalogs')]\")   \n",
    "    # Hacemos Click\n",
    "    driver.execute_script(\"arguments[0].click();\", elem)\n",
    "    # Esperamos a que cargue\n",
    "    driver.implicitly_wait(10)\n",
    "    # Pulsamos el botón query de la ventana que acaba de cargar\n",
    "    elem2 = driver.find_element(By.XPATH, \"//button[text()='min-datetime-tbox']\").click() \n",
    "    # Esperamos a que se cargue el formulario\n",
    "    driver.implicitly_wait(10)\n",
    "    # Vamos a rellenar el formulario\n",
    "    # Comenzamos por los selectores\n",
    "    select = Select(driver.find_element(By.ID,'mul-release-sel'))\n",
    "    # Vamos a seleccionar elementos por su nombre, son las diferentes releases\n",
    "    select.select_by_visible_text('GWTC-1-marginal')\n",
    "    select.select_by_visible_text('GWTC-1-confident')\n",
    "    select.select_by_visible_text('O3_IMBH_marginal')\n",
    "    select.select_by_visible_text('GWTC-2')\n",
    "    select.select_by_visible_text('GWTC-2.1-marginal')\n",
    "    select.select_by_visible_text('GWTC-2.1-confident')\n",
    "    select.select_by_visible_text('GWTC-3-marginal')\n",
    "    select.select_by_visible_text('GWTC-3-confident')\n",
    "    select.select_by_visible_text('Initial_LIGO_Virgo')\n",
    "    \n",
    "    # Ahora metemos las fechas desde y hasta\n",
    "    imputFecha1 = driver.find_element(By.XPATH,\"//button[text()='Query']/input\")\n",
    "    input_text = divFecha1.get_attribute(\"form-control\")\n",
    "    input_text.send_keys('20160101T00:00:00')  \n",
    "    return \n",
    "\n",
    "execute_form()\n"
   ]
  }
 ],
 "metadata": {
  "kernelspec": {
   "display_name": "Python 3 (ipykernel)",
   "language": "python",
   "name": "python3"
  },
  "language_info": {
   "codemirror_mode": {
    "name": "ipython",
    "version": 3
   },
   "file_extension": ".py",
   "mimetype": "text/x-python",
   "name": "python",
   "nbconvert_exporter": "python",
   "pygments_lexer": "ipython3",
   "version": "3.9.13"
  }
 },
 "nbformat": 4,
 "nbformat_minor": 5
}
